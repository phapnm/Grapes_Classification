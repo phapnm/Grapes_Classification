{
 "cells": [
  {
   "cell_type": "code",
   "execution_count": 1,
   "metadata": {
    "colab": {
     "base_uri": "https://localhost:8080/",
     "height": 407
    },
    "colab_type": "code",
    "id": "_Nrg-U6fY9M3",
    "outputId": "2e058bac-90e8-4366-9c0f-d4cfc04d9612"
   },
   "outputs": [
    {
     "name": "stdout",
     "output_type": "stream",
     "text": [
      "Requirement already satisfied: classification_models in /usr/local/lib/python2.7/dist-packages (0.1)\n",
      "\u001b[33mYou are using pip version 10.0.1, however version 20.2b1 is available.\n",
      "You should consider upgrading via the 'pip install --upgrade pip' command.\u001b[0m\n"
     ]
    }
   ],
   "source": [
    "!pip install classification_models"
   ]
  },
  {
   "cell_type": "markdown",
   "metadata": {
    "colab_type": "text",
    "id": "kc8nuJQA3JuI"
   },
   "source": [
    "# Introduce\n",
    "\n",
    "\n"
   ]
  },
  {
   "cell_type": "markdown",
   "metadata": {
    "colab_type": "text",
    "id": "mpJUfqSiGn3H"
   },
   "source": [
    "**Dataset**\n",
    " \n",
    " The Datasets contains 402 images in 4 folders as 4 classes: NinhThuan_Green, NinhThuan_Red, China_Red, China_Green. However, the China_Red and China_Green contains only 32 images so the datasets is embalanced. \n",
    "\n",
    "Each image in each folder has the label as part of the foldername. \n",
    "\n"
   ]
  },
  {
   "cell_type": "markdown",
   "metadata": {
    "colab_type": "text",
    "id": "3g4o4U5rHRPX"
   },
   "source": [
    "**Method**\n",
    "\n",
    "  For the solution of this problem we will use a pre-trained model, VGG16, Resnet18, replacing only the last layer."
   ]
  },
  {
   "cell_type": "markdown",
   "metadata": {
    "colab_type": "text",
    "id": "exK_Yjgu4Omy"
   },
   "source": [
    "# Import the Libraries and set parameters\n",
    "\n"
   ]
  },
  {
   "cell_type": "code",
   "execution_count": 2,
   "metadata": {
    "colab": {},
    "colab_type": "code",
    "id": "tx5RMOb26fHj"
   },
   "outputs": [],
   "source": [
    "import os\n",
    "# import glob2\n",
    "import pandas as pd\n",
    "import tensorflow as tf\n",
    "from tensorflow.keras.models import Model, Sequential\n",
    "from tensorflow.keras.layers import  Flatten, Dense, Dropout, Input, GlobalAveragePooling2D\n",
    "from tensorflow.keras.applications import VGG16\n",
    "from tensorflow.keras.optimizers import Adam, SGD, RMSprop\n",
    "import tensorflow.keras.backend as K\n",
    "#from tensorflow.keras.utils import Sequence, to_categorical\n",
    "import numpy as np\n",
    "import random\n",
    "import pickle\n",
    "from imutils import paths\n",
    "import cv2\n",
    "from matplotlib import pyplot as plt\n",
    "from tensorflow.keras.preprocessing.image import img_to_array\n",
    "from tensorflow.keras.preprocessing.image import ImageDataGenerator\n",
    "from sklearn.preprocessing import MultiLabelBinarizer,LabelBinarizer\n",
    "from sklearn.model_selection import train_test_split\n",
    "from sklearn.metrics import classification_report, f1_score\n",
    "from tqdm import *\n",
    "\n",
    "# thêm 1 số callback\n",
    "from tensorflow.keras.callbacks import EarlyStopping, ReduceLROnPlateau, ModelCheckpoint, TensorBoard"
   ]
  },
  {
   "cell_type": "code",
   "execution_count": 3,
   "metadata": {
    "colab": {},
    "colab_type": "code",
    "id": "JYVbHwaLiVBQ"
   },
   "outputs": [],
   "source": [
    "INPUT_SHAPE = (224, 224 ,3)\n",
    "N_CLASSES = 4\n",
    "EPOCHS = 30\n",
    "INIT_LR = 1e-3\n",
    "BATCH_SIZE = 32\n",
    "opt = Adam(lr=INIT_LR)\n",
    "# opt1=SGD(0.0001)"
   ]
  },
  {
   "cell_type": "markdown",
   "metadata": {
    "colab_type": "text",
    "id": "gAG1DRAqfuFN"
   },
   "source": [
    "# Read the Data"
   ]
  },
  {
   "cell_type": "code",
   "execution_count": 4,
   "metadata": {
    "colab": {},
    "colab_type": "code",
    "id": "RCeI-ipp6nPj"
   },
   "outputs": [],
   "source": [
    "# Lấy path data\n",
    "imagePaths = sorted(list(paths.list_images(\"datasets\")))"
   ]
  },
  {
   "cell_type": "code",
   "execution_count": 5,
   "metadata": {
    "colab": {},
    "colab_type": "code",
    "id": "w_1I-WgbDgcG"
   },
   "outputs": [],
   "source": [
    "#Tách tên classes từ đường dẫn\n",
    "classes = [path.split(\"/\")[1] for path in imagePaths]"
   ]
  },
  {
   "cell_type": "code",
   "execution_count": 6,
   "metadata": {
    "colab": {},
    "colab_type": "code",
    "id": "ZUC30gU47C_c"
   },
   "outputs": [],
   "source": [
    "data = []\n",
    "labels = []"
   ]
  },
  {
   "cell_type": "code",
   "execution_count": 7,
   "metadata": {
    "colab": {},
    "colab_type": "code",
    "id": "YPFwYtZcf1Fp"
   },
   "outputs": [],
   "source": [
    "# Đọc data đầu vào từ imagePaths và gán label cho data \n",
    "for imagePath in imagePaths:\n",
    "    image = cv2.imread(imagePath)\n",
    "    #Resize ảnh 224X224\n",
    "    image = cv2.resize(image, (224, 224))\n",
    "    image = cv2.cvtColor(image, cv2.COLOR_BGR2RGB)\n",
    "    image = img_to_array(image)\n",
    "    data.append(image)\n",
    "    #gán dữ liệu labels\n",
    "    label = imagePath.split(os.path.sep)[1]\n",
    "    labels.append(label)"
   ]
  },
  {
   "cell_type": "code",
   "execution_count": 8,
   "metadata": {
    "colab": {},
    "colab_type": "code",
    "id": "JARJVVLcwThy"
   },
   "outputs": [],
   "source": [
    "# scale [0, 1]\n",
    "data = np.array(data, dtype=\"float\")/255.0"
   ]
  },
  {
   "cell_type": "code",
   "execution_count": 9,
   "metadata": {
    "colab": {},
    "colab_type": "code",
    "id": "rTzcA0G0f1VB"
   },
   "outputs": [],
   "source": [
    "# Chuyển label của ảnh thành ma trận nhị phân\n",
    "#mlb = MultiLabelBinarizer()\n",
    "mlb = LabelBinarizer()\n",
    "y = mlb.fit_transform(labels)"
   ]
  },
  {
   "cell_type": "code",
   "execution_count": 10,
   "metadata": {
    "colab": {},
    "colab_type": "code",
    "id": "yHzUaVKwv_fN"
   },
   "outputs": [
    {
     "data": {
      "text/plain": [
       "array(['China_Green', 'China_Red', 'NinhThuan_Green', 'NinhThuan_Red'],\n",
       "      dtype='|S15')"
      ]
     },
     "execution_count": 10,
     "metadata": {},
     "output_type": "execute_result"
    }
   ],
   "source": [
    " mlb.classes_"
   ]
  },
  {
   "cell_type": "code",
   "execution_count": 11,
   "metadata": {
    "colab": {},
    "colab_type": "code",
    "id": "WPXhPilKhs2a"
   },
   "outputs": [],
   "source": [
    "# Lữu trữ mlb.pkl file\n",
    "f = open('mlb.pkl', \"wb\")\n",
    "f.write(pickle.dumps(mlb))\n",
    "f.close()"
   ]
  },
  {
   "cell_type": "markdown",
   "metadata": {
    "colab_type": "text",
    "id": "jUsC-cCU5PjW"
   },
   "source": [
    "# EDA"
   ]
  },
  {
   "cell_type": "code",
   "execution_count": 12,
   "metadata": {
    "colab": {},
    "colab_type": "code",
    "id": "9FdB5nmheiRs"
   },
   "outputs": [],
   "source": [
    "def _imread(path):\n",
    "    img = cv2.imread(path)\n",
    "    imgRGB = cv2.cvtColor(img, cv2.COLOR_BGR2RGB)\n",
    "    return imgRGB"
   ]
  },
  {
   "cell_type": "code",
   "execution_count": 13,
   "metadata": {
    "colab": {},
    "colab_type": "code",
    "id": "ym2BROloeomZ"
   },
   "outputs": [],
   "source": [
    "cn_red = \"./datasets/China_Red\"\n",
    "cn_green = \"./datasets/China_Green\"\n",
    "nt_red = \"./datasets/NinhThuan_Red\"\n",
    "nt_green = \"./datasets/NinhThuan_Green\"\n",
    "\n",
    "grape_cn_red = _imread(cn_red + \"/tq3.jpg\")\n",
    "grape_cn_green = _imread(cn_green + \"/nhotqqq.png\")\n",
    "grape_nt_red = _imread(nt_red + \"/NinhThuan_Red_001.jpg\")\n",
    "grape_nt_green = _imread(nt_green + \"/NinhThuan_Green_120.jpg\")"
   ]
  },
  {
   "cell_type": "code",
   "execution_count": 14,
   "metadata": {
    "colab": {},
    "colab_type": "code",
    "id": "bpRhdpfWeyyq"
   },
   "outputs": [
    {
     "data": {
      "text/plain": [
       "(([], <a list of 0 Text xticklabel objects>),\n",
       " ([], <a list of 0 Text yticklabel objects>))"
      ]
     },
     "execution_count": 14,
     "metadata": {},
     "output_type": "execute_result"
    },
    {
     "data": {
      "image/png": "[encoded data removed]",
      "text/plain": [
       "<Figure size 432x288 with 4 Axes>"
      ]
     },
     "metadata": {},
     "output_type": "display_data"
    }
   ],
   "source": [
    "plt.subplot(2,2,1)\n",
    "plt.imshow(grape_cn_red)\n",
    "plt.title(\"China Red\")\n",
    "plt.xticks([]), plt.yticks([])\n",
    "\n",
    "plt.subplot(2,2,2)\n",
    "plt.imshow(grape_cn_green)\n",
    "plt.title(\"China Green\")\n",
    "plt.xticks([]), plt.yticks([])\n",
    "\n",
    "plt.subplot(2,2,3)\n",
    "plt.imshow(grape_nt_red)\n",
    "plt.title(\"Ninh Thuan Red\")\n",
    "plt.xticks([]), plt.yticks([])\n",
    "\n",
    "plt.subplot(2,2,4)\n",
    "plt.imshow(grape_nt_green)\n",
    "plt.title(\"Ninh Thuan Green\")\n",
    "plt.xticks([]), plt.yticks([])"
   ]
  },
  {
   "cell_type": "code",
   "execution_count": 15,
   "metadata": {
    "colab": {},
    "colab_type": "code",
    "id": "gAMJeNWo68eW"
   },
   "outputs": [
    {
     "data": {
      "text/plain": [
       "<matplotlib.axes._subplots.AxesSubplot at 0x7f8a301f8710>"
      ]
     },
     "execution_count": 15,
     "metadata": {},
     "output_type": "execute_result"
    },
    {
     "data": {
      "image/png": "[encoded data removed]",
      "text/plain": [
       "<Figure size 432x288 with 1 Axes>"
      ]
     },
     "metadata": {},
     "output_type": "display_data"
    }
   ],
   "source": [
    "# Phân tích số lượng data đầu vào của mỗi class\n",
    "data_fr = pd.DataFrame({'class': classes, 'source':imagePaths})\n",
    "data_fr.groupby('class').source.count().plot.bar()\n"
   ]
  },
  {
   "cell_type": "markdown",
   "metadata": {
    "colab_type": "text",
    "id": "0fQ9a0OH5ka1"
   },
   "source": [
    "# Modeling"
   ]
  },
  {
   "cell_type": "markdown",
   "metadata": {
    "colab_type": "text",
    "id": "1Eq1p4kbjU6h"
   },
   "source": [
    "## Prepare the model\n",
    "\n"
   ]
  },
  {
   "cell_type": "code",
   "execution_count": 16,
   "metadata": {
    "colab": {
     "base_uri": "https://localhost:8080/",
     "height": 67
    },
    "colab_type": "code",
    "id": "gjsTOcNNh1-Y",
    "outputId": "d3534d66-25a5-410f-91f6-67e9b01de97e"
   },
   "outputs": [
    {
     "name": "stdout",
     "output_type": "stream",
     "text": [
      "((166, 224, 224, 3), (166, 4))\n",
      "((55, 224, 224, 3), (55, 4))\n",
      "((56, 224, 224, 3), (56, 4))\n"
     ]
    }
   ],
   "source": [
    "# Split datasets\n",
    "(X_train, X_test, y_train, y_test) = train_test_split(data, y, test_size=0.4, random_state=42,stratify=y,shuffle=True)\n",
    "(X_test, X_val, y_test, y_val) = train_test_split(X_test, y_test, test_size=0.5, random_state=42,stratify=y_test,shuffle=True)\n",
    "print(X_train.shape, y_train.shape)\n",
    "print(X_test.shape, y_test.shape)\n",
    "print(X_val.shape, y_val.shape)"
   ]
  },
  {
   "cell_type": "code",
   "execution_count": 17,
   "metadata": {
    "colab": {},
    "colab_type": "code",
    "id": "xK5_LCEHilVn"
   },
   "outputs": [],
   "source": [
    "aug = ImageDataGenerator(rotation_range=15, width_shift_range=0.1,\n",
    "                        height_shift_range=0.1, shear_range=0.2, zoom_range=0.2,\n",
    "                        horizontal_flip=True, fill_mode=\"nearest\")"
   ]
  },
  {
   "cell_type": "code",
   "execution_count": 18,
   "metadata": {
    "colab": {},
    "colab_type": "code",
    "id": "p_LV7l8OjrKZ"
   },
   "outputs": [],
   "source": [
    "# Load model VGG 16 của ImageNet dataset, include_top=False để bỏ phần Fully connected layer ở cuối\n",
    "base_model=VGG16(weights= 'imagenet', include_top=False, input_tensor=Input(shape=(224,224,3)))\n",
    "# Thêm cái layer\n",
    "# Lấy output của ConvNet trong VGG16\n",
    "x = base_model.output\n",
    "\n",
    "# # Flatten trước khi dùng FCs\n",
    "# x = Flatten(name='flatten')(x)\n",
    "# ít data -> nên xài ít parametter -> GlobalAveragePooling2D\n",
    "x = GlobalAveragePooling2D()(x)\n",
    "\n",
    "# Thêm FC\n",
    "x = Dense(128, activation='relu')(x)\n",
    "x = Dropout(0.2)(x)\n",
    "\n",
    "# Output layer với sigmoid activation\n",
    "out = Dense(4, activation='softmax')(x)\n",
    "\n",
    "# Xây dựng model bằng việc nối ConvNet của VGG16 và output layer\n",
    "model = Model(inputs=base_model.input, outputs=out)\n"
   ]
  },
  {
   "cell_type": "code",
   "execution_count": 19,
   "metadata": {
    "colab": {},
    "colab_type": "code",
    "id": "H0Hvm9ntk03R"
   },
   "outputs": [
    {
     "name": "stdout",
     "output_type": "stream",
     "text": [
      "_________________________________________________________________\n",
      "Layer (type)                 Output Shape              Param #   \n",
      "=================================================================\n",
      "input_1 (InputLayer)         (None, 224, 224, 3)       0         \n",
      "_________________________________________________________________\n",
      "block1_conv1 (Conv2D)        (None, 224, 224, 64)      1792      \n",
      "_________________________________________________________________\n",
      "block1_conv2 (Conv2D)        (None, 224, 224, 64)      36928     \n",
      "_________________________________________________________________\n",
      "block1_pool (MaxPooling2D)   (None, 112, 112, 64)      0         \n",
      "_________________________________________________________________\n",
      "block2_conv1 (Conv2D)        (None, 112, 112, 128)     73856     \n",
      "_________________________________________________________________\n",
      "block2_conv2 (Conv2D)        (None, 112, 112, 128)     147584    \n",
      "_________________________________________________________________\n",
      "block2_pool (MaxPooling2D)   (None, 56, 56, 128)       0         \n",
      "_________________________________________________________________\n",
      "block3_conv1 (Conv2D)        (None, 56, 56, 256)       295168    \n",
      "_________________________________________________________________\n",
      "block3_conv2 (Conv2D)        (None, 56, 56, 256)       590080    \n",
      "_________________________________________________________________\n",
      "block3_conv3 (Conv2D)        (None, 56, 56, 256)       590080    \n",
      "_________________________________________________________________\n",
      "block3_pool (MaxPooling2D)   (None, 28, 28, 256)       0         \n",
      "_________________________________________________________________\n",
      "block4_conv1 (Conv2D)        (None, 28, 28, 512)       1180160   \n",
      "_________________________________________________________________\n",
      "block4_conv2 (Conv2D)        (None, 28, 28, 512)       2359808   \n",
      "_________________________________________________________________\n",
      "block4_conv3 (Conv2D)        (None, 28, 28, 512)       2359808   \n",
      "_________________________________________________________________\n",
      "block4_pool (MaxPooling2D)   (None, 14, 14, 512)       0         \n",
      "_________________________________________________________________\n",
      "block5_conv1 (Conv2D)        (None, 14, 14, 512)       2359808   \n",
      "_________________________________________________________________\n",
      "block5_conv2 (Conv2D)        (None, 14, 14, 512)       2359808   \n",
      "_________________________________________________________________\n",
      "block5_conv3 (Conv2D)        (None, 14, 14, 512)       2359808   \n",
      "_________________________________________________________________\n",
      "block5_pool (MaxPooling2D)   (None, 7, 7, 512)         0         \n",
      "_________________________________________________________________\n",
      "global_average_pooling2d (Gl (None, 512)               0         \n",
      "_________________________________________________________________\n",
      "dense (Dense)                (None, 128)               65664     \n",
      "_________________________________________________________________\n",
      "dropout (Dropout)            (None, 128)               0         \n",
      "_________________________________________________________________\n",
      "dense_1 (Dense)              (None, 4)                 516       \n",
      "=================================================================\n",
      "Total params: 14,780,868\n",
      "Trainable params: 66,180\n",
      "Non-trainable params: 14,714,688\n",
      "_________________________________________________________________\n"
     ]
    }
   ],
   "source": [
    "# Freeze backbone of model and train with large LR\n",
    "for layer in base_model.layers:\n",
    "    layer.trainable = False\n",
    "\n",
    "model.compile(loss=\"categorical_crossentropy\", optimizer=Adam(lr=INIT_LR), metrics=[\"accuracy\"])\n",
    "model.summary()"
   ]
  },
  {
   "cell_type": "markdown",
   "metadata": {
    "colab_type": "text",
    "id": "qv01tffLlAGZ"
   },
   "source": [
    "## Train model with pretrain VGG16\n"
   ]
  },
  {
   "cell_type": "code",
   "execution_count": 20,
   "metadata": {
    "colab": {
     "base_uri": "https://localhost:8080/",
     "height": 689
    },
    "colab_type": "code",
    "id": "oB_ls1pvlN0e",
    "outputId": "5ad8f7e9-f5d2-465b-904d-92a70679aa53"
   },
   "outputs": [
    {
     "name": "stdout",
     "output_type": "stream",
     "text": [
      "Epoch 1/2\n",
      "5/5 [==============================] - 6s 1s/step - loss: 1.5169 - acc: 0.2064 - val_loss: 1.1062 - val_acc: 0.5536\n",
      "Epoch 2/2\n",
      "5/5 [==============================] - 2s 376ms/step - loss: 1.0722 - acc: 0.5129 - val_loss: 1.0636 - val_acc: 0.5357\n"
     ]
    }
   ],
   "source": [
    "# warm up the network with 2 epoch\n",
    "history1 = model.fit_generator(\n",
    "    aug.flow(X_train, y_train, batch_size=BATCH_SIZE),\n",
    "    validation_data=(X_val, y_val),\n",
    "    steps_per_epoch=len(X_train) // BATCH_SIZE,\n",
    "    epochs=2, verbose=1)"
   ]
  },
  {
   "cell_type": "code",
   "execution_count": 21,
   "metadata": {
    "colab": {
     "base_uri": "https://localhost:8080/",
     "height": 50
    },
    "colab_type": "code",
    "id": "dthfeNiq2mbc",
    "outputId": "6db12d14-d7b8-42b9-f6f3-9bcbc5929563"
   },
   "outputs": [
    {
     "name": "stdout",
     "output_type": "stream",
     "text": [
      "('Validation loss:', 1.0636059216090612)\n",
      "('Validation accuracy:', 0.5357142771993365)\n"
     ]
    }
   ],
   "source": [
    "score = model.evaluate(X_val, y_val, verbose=0)\n",
    "print('Validation loss:', score[0])\n",
    "print('Validation accuracy:', score[1])"
   ]
  },
  {
   "cell_type": "markdown",
   "metadata": {
    "colab_type": "text",
    "id": "35DLDhjE9kuG"
   },
   "source": [
    "### Unfreeze some last CNN layer"
   ]
  },
  {
   "cell_type": "code",
   "execution_count": 22,
   "metadata": {
    "colab": {
     "base_uri": "https://localhost:8080/",
     "height": 403
    },
    "colab_type": "code",
    "id": "8oOGOYUM9R6P",
    "outputId": "76e98e41-c367-44c9-9fff-737fa0a32585"
   },
   "outputs": [
    {
     "name": "stdout",
     "output_type": "stream",
     "text": [
      "_________________________________________________________________\n",
      "Layer (type)                 Output Shape              Param #   \n",
      "=================================================================\n",
      "input_1 (InputLayer)         (None, 224, 224, 3)       0         \n",
      "_________________________________________________________________\n",
      "block1_conv1 (Conv2D)        (None, 224, 224, 64)      1792      \n",
      "_________________________________________________________________\n",
      "block1_conv2 (Conv2D)        (None, 224, 224, 64)      36928     \n",
      "_________________________________________________________________\n",
      "block1_pool (MaxPooling2D)   (None, 112, 112, 64)      0         \n",
      "_________________________________________________________________\n",
      "block2_conv1 (Conv2D)        (None, 112, 112, 128)     73856     \n",
      "_________________________________________________________________\n",
      "block2_conv2 (Conv2D)        (None, 112, 112, 128)     147584    \n",
      "_________________________________________________________________\n",
      "block2_pool (MaxPooling2D)   (None, 56, 56, 128)       0         \n",
      "_________________________________________________________________\n",
      "block3_conv1 (Conv2D)        (None, 56, 56, 256)       295168    \n",
      "_________________________________________________________________\n",
      "block3_conv2 (Conv2D)        (None, 56, 56, 256)       590080    \n",
      "_________________________________________________________________\n",
      "block3_conv3 (Conv2D)        (None, 56, 56, 256)       590080    \n",
      "_________________________________________________________________\n",
      "block3_pool (MaxPooling2D)   (None, 28, 28, 256)       0         \n",
      "_________________________________________________________________\n",
      "block4_conv1 (Conv2D)        (None, 28, 28, 512)       1180160   \n",
      "_________________________________________________________________\n",
      "block4_conv2 (Conv2D)        (None, 28, 28, 512)       2359808   \n",
      "_________________________________________________________________\n",
      "block4_conv3 (Conv2D)        (None, 28, 28, 512)       2359808   \n",
      "_________________________________________________________________\n",
      "block4_pool (MaxPooling2D)   (None, 14, 14, 512)       0         \n",
      "_________________________________________________________________\n",
      "block5_conv1 (Conv2D)        (None, 14, 14, 512)       2359808   \n",
      "_________________________________________________________________\n",
      "block5_conv2 (Conv2D)        (None, 14, 14, 512)       2359808   \n",
      "_________________________________________________________________\n",
      "block5_conv3 (Conv2D)        (None, 14, 14, 512)       2359808   \n",
      "_________________________________________________________________\n",
      "block5_pool (MaxPooling2D)   (None, 7, 7, 512)         0         \n",
      "_________________________________________________________________\n",
      "global_average_pooling2d (Gl (None, 512)               0         \n",
      "_________________________________________________________________\n",
      "dense (Dense)                (None, 128)               65664     \n",
      "_________________________________________________________________\n",
      "dropout (Dropout)            (None, 128)               0         \n",
      "_________________________________________________________________\n",
      "dense_1 (Dense)              (None, 4)                 516       \n",
      "=================================================================\n",
      "Total params: 14,780,868\n",
      "Trainable params: 14,780,868\n",
      "Non-trainable params: 0\n",
      "_________________________________________________________________\n"
     ]
    }
   ],
   "source": [
    "# unfreeze all layers:\n",
    "for layer in model.layers:\n",
    "    layer.trainable = True\n",
    "\n",
    "model.compile(loss=\"categorical_crossentropy\", optimizer=Adam(lr=INIT_LR/10), metrics=[\"accuracy\"])\n",
    "model.summary()"
   ]
  },
  {
   "cell_type": "code",
   "execution_count": null,
   "metadata": {
    "colab": {
     "base_uri": "https://localhost:8080/",
     "height": 689
    },
    "colab_type": "code",
    "id": "Gtu72P_19TEh",
    "outputId": "837f6bb4-18e4-483f-9810-7a9a5eddc656"
   },
   "outputs": [
    {
     "name": "stdout",
     "output_type": "stream",
     "text": [
      "WARNING:tensorflow:`epsilon` argument is deprecated and will be removed, use `min_delta` instead.\n",
      "Epoch 1/30\n",
      "5/5 [==============================] - 10s 2s/step - loss: 0.8290 - acc: 0.6677 - val_loss: 0.8982 - val_acc: 0.6607\n",
      "Epoch 2/30\n",
      "5/5 [==============================] - 2s 438ms/step - loss: 0.6150 - acc: 0.7645 - val_loss: 0.4833 - val_acc: 0.8214\n",
      "Epoch 3/30\n",
      "5/5 [==============================] - 3s 521ms/step - loss: 0.3703 - acc: 0.8625 - val_loss: 0.3182 - val_acc: 0.8929\n",
      "Epoch 4/30\n",
      "5/5 [==============================] - 2s 459ms/step - loss: 0.4271 - acc: 0.7968 - val_loss: 0.3122 - val_acc: 0.8571\n",
      "Epoch 5/30\n",
      "5/5 [==============================] - 2s 413ms/step - loss: 0.2818 - acc: 0.8742 - val_loss: 0.2544 - val_acc: 0.8929\n",
      "Epoch 6/30\n",
      "5/5 [==============================] - 2s 396ms/step - loss: 0.3516 - acc: 0.8581 - val_loss: 0.2268 - val_acc: 0.8929\n",
      "Epoch 7/30\n",
      "5/5 [==============================] - 2s 403ms/step - loss: 0.1753 - acc: 0.9419 - val_loss: 0.1910 - val_acc: 0.9464\n",
      "Epoch 8/30\n",
      "5/5 [==============================] - 2s 415ms/step - loss: 0.1487 - acc: 0.9323 - val_loss: 0.2394 - val_acc: 0.9464\n",
      "Epoch 9/30\n",
      "4/5 [=======================>......] - ETA: 0s - loss: 0.2367 - acc: 0.9219\n",
      "Epoch 00009: ReduceLROnPlateau reducing learning rate to 4.99999987369e-05.\n",
      "5/5 [==============================] - 3s 505ms/step - loss: 0.1955 - acc: 0.9355 - val_loss: 0.3527 - val_acc: 0.8750\n",
      "Epoch 10/30\n",
      "5/5 [==============================] - 3s 518ms/step - loss: 0.1661 - acc: 0.9250 - val_loss: 0.1294 - val_acc: 0.9464\n",
      "Epoch 11/30\n",
      "4/5 [=======================>......] - ETA: 0s - loss: 0.1090 - acc: 0.9688"
     ]
    }
   ],
   "source": [
    "callbacks = [ReduceLROnPlateau(monitor='val_loss',\n",
    "                               factor=0.5,\n",
    "                               patience=2,\n",
    "                               verbose=1,\n",
    "                               epsilon=1e-5),\n",
    "             ModelCheckpoint(monitor='val_loss',\n",
    "                             filepath='./model_grapes_multitask_learning.hdf5',\n",
    "                             save_best_only=True,\n",
    "                             save_weights_only=True)]\n",
    "\n",
    "\n",
    "history2 = model.fit_generator(\n",
    "    aug.flow(X_train, y_train, batch_size=BATCH_SIZE),\n",
    "    validation_data=(X_val, y_val),\n",
    "    steps_per_epoch=len(X_train) // BATCH_SIZE,\n",
    "    epochs=EPOCHS, verbose=1,\n",
    "    callbacks=callbacks)"
   ]
  },
  {
   "cell_type": "code",
   "execution_count": null,
   "metadata": {
    "colab": {},
    "colab_type": "code",
    "id": "XAQyl8LN9ZCh"
   },
   "outputs": [],
   "source": [
    "# load best epoch\n",
    "model.load_weights(\"model_grapes_multitask_learning.h5\")"
   ]
  },
  {
   "cell_type": "code",
   "execution_count": null,
   "metadata": {
    "colab": {
     "base_uri": "https://localhost:8080/",
     "height": 50
    },
    "colab_type": "code",
    "id": "qX103i8Cuh11",
    "outputId": "650a33c3-d5c2-49a4-decb-99cc3958b521"
   },
   "outputs": [],
   "source": [
    "score = model.evaluate(X_val, y_val, verbose=0)\n",
    "print('Validation loss:', score[0])\n",
    "print('Validation accuracy:', score[1])"
   ]
  },
  {
   "cell_type": "markdown",
   "metadata": {
    "colab_type": "text",
    "id": "dHiQgg7NlYzt"
   },
   "source": [
    "## Show accuracy and loss"
   ]
  },
  {
   "cell_type": "code",
   "execution_count": null,
   "metadata": {
    "colab": {
     "base_uri": "https://localhost:8080/",
     "height": 312
    },
    "colab_type": "code",
    "id": "4fKQkRjP-yyU",
    "outputId": "879a23b0-0aef-4848-98ae-3c08b7e8eb2f"
   },
   "outputs": [],
   "source": [
    "# Show VGG16 Training Loss and Accuracy with some layers unfreeze\n",
    "plt.figure()\n",
    "N = EPOCHS\n",
    "plt.plot(np.arange(0, N), history2.history[\"loss\"], label=\"train_loss\")\n",
    "plt.plot(np.arange(0, N), history2.history[\"val_loss\"], label=\"val_loss\")\n",
    "# plt.plot(np.arange(0, N), history2.history[\"accuracy\"], label=\"train_acc\")\n",
    "# plt.plot(np.arange(0, N), history2.history[\"val_accuracy\"], label=\"val_acc\")\n",
    "plt.title(\"Training Loss and Accuracy\")\n",
    "plt.xlabel(\"Epochs\")\n",
    "plt.ylabel(\"Loss/Accuracy\")\n",
    "plt.legend(loc=\"upper left\")"
   ]
  },
  {
   "cell_type": "markdown",
   "metadata": {
    "colab_type": "text",
    "id": "lZjXF1FTK_PK"
   },
   "source": [
    "## F1-score for VGG16\n"
   ]
  },
  {
   "cell_type": "code",
   "execution_count": null,
   "metadata": {},
   "outputs": [],
   "source": [
    "def find_best_fixed_threshold(preds, targs, do_plot=False):\n",
    "    score = []\n",
    "    thrs = np.arange(0, 0.95, 0.01)\n",
    "    for thr in tqdm(thrs):\n",
    "        score.append(f1_score(targs, (preds >= thr).astype(int), average='macro' ))\n",
    "    score = np.array(score)\n",
    "    pm = score.argmax()\n",
    "    best_thr, best_score = thrs[pm], score[pm].item()\n",
    "    print('thr= ', best_thr, ' F1= ', best_score)\n",
    "    return best_thr, best_score"
   ]
  },
  {
   "cell_type": "code",
   "execution_count": null,
   "metadata": {},
   "outputs": [],
   "source": [
    "y_pred_val = model.predict(X_val,batch_size=10,verbose=1)\n",
    "\n",
    "# search best threshold when making a decision\n",
    "best_thr, best_score = find_best_fixed_threshold(y_pred_val, y_val, do_plot=False)"
   ]
  },
  {
   "cell_type": "code",
   "execution_count": null,
   "metadata": {
    "colab": {
     "base_uri": "https://localhost:8080/",
     "height": 34
    },
    "colab_type": "code",
    "id": "RhiWy16vOrYC",
    "outputId": "6f8105ae-ba26-48b8-831b-1e44dc81fc88"
   },
   "outputs": [],
   "source": [
    "# f1-score in train\n",
    "y_pred_train = model.predict(X_train,batch_size=10,verbose=1)\n",
    "y_pred_train = (y_pred_train >= best_thr)\n",
    "model_f1_score = f1_score(y_train, y_pred_train, average='macro')\n",
    "print('f1 score on train: ', model_f1_score)"
   ]
  },
  {
   "cell_type": "code",
   "execution_count": null,
   "metadata": {
    "colab": {
     "base_uri": "https://localhost:8080/",
     "height": 34
    },
    "colab_type": "code",
    "id": "Oe_xfq6vOCuO",
    "outputId": "9b9eb050-3828-427c-b9d0-e7089d17244d"
   },
   "outputs": [],
   "source": [
    "# f1-score in validset\n",
    "y_pred_val = (y_pred_val >= best_thr)\n",
    "model_f1_score= f1_score(y_val, y_pred_val, average='macro')\n",
    "print('f1 score on valid: ',model_f1_score)"
   ]
  },
  {
   "cell_type": "code",
   "execution_count": null,
   "metadata": {
    "colab": {
     "base_uri": "https://localhost:8080/",
     "height": 34
    },
    "colab_type": "code",
    "id": "I0B88Ds4LJMg",
    "outputId": "fb4f13b8-a019-4258-b087-7138b379798f"
   },
   "outputs": [],
   "source": [
    "#F1-score trong sklearn với average='macro' in testset\n",
    "# Predict bộ test và chuyển sang dạng ma trận nhị phân như y_test\n",
    "y_pred = model.predict(X_test,batch_size=10,verbose=1)\n",
    "y_pred = (y_pred >= best_thr)\n",
    "model_f1_score = f1_score(y_test, y_pred,average='macro')\n",
    "print('f1 score on test: ',model_f1_score)"
   ]
  },
  {
   "cell_type": "markdown",
   "metadata": {
    "colab_type": "text",
    "id": "xRG9ALVI537a"
   },
   "source": [
    "# Predict the test dataset"
   ]
  },
  {
   "cell_type": "code",
   "execution_count": null,
   "metadata": {
    "colab": {},
    "colab_type": "code",
    "id": "RFvNDLZbl6Tb"
   },
   "outputs": [],
   "source": [
    "# Predict bộ test và chuyển sang dạng ma trận nhị phân như y_test\n",
    "y_pred = model.predict(X_test,batch_size=10,verbose=1)\n",
    "y_pred = (y_pred >= best_thr)"
   ]
  },
  {
   "cell_type": "code",
   "execution_count": null,
   "metadata": {
    "colab": {
     "base_uri": "https://localhost:8080/",
     "height": 862
    },
    "colab_type": "code",
    "id": "ZqAyAxr0mm7m",
    "outputId": "11d5157e-4540-4865-d5c7-faaf08d48038"
   },
   "outputs": [],
   "source": [
    "f, ax = plt.subplots(7,7, figsize=(15,15))\n",
    "for i in range(0,49):\n",
    "    arr=y_pred[i]\n",
    "    orig=X_test[i]\n",
    "    for j in range(0, len(arr)):\n",
    "        if arr[j] == 1: \n",
    "            str_predicted=\"{}\".format(mlb.classes_[j])\n",
    "    ax[i//7, i%7].imshow(orig)\n",
    "    ax[i//7, i%7].axis('off')\n",
    "    ax[i//7, i%7].set_title(\"{}\".format(str_predicted))    \n",
    "plt.show()"
   ]
  },
  {
   "cell_type": "code",
   "execution_count": null,
   "metadata": {},
   "outputs": [],
   "source": []
  }
 ],
 "metadata": {
  "accelerator": "GPU",
  "colab": {
   "collapsed_sections": [
    "1Eq1p4kbjU6h",
    "qv01tffLlAGZ",
    "35DLDhjE9kuG",
    "BKuI9s4oYcLa",
    "dHiQgg7NlYzt",
    "T8aJ7MqpqKOe"
   ],
   "name": "Grapes_1.ipynb",
   "provenance": [],
   "toc_visible": true
  },
  "kernelspec": {
   "display_name": "Python 3.7 (tf20-gpu)",
   "language": "python",
   "name": "tf20-gpu"
  },
  "language_info": {
   "codemirror_mode": {
    "name": "ipython",
    "version": 3
   },
   "file_extension": ".py",
   "mimetype": "text/x-python",
   "name": "python",
   "nbconvert_exporter": "python",
   "pygments_lexer": "ipython3",
   "version": "3.7.1"
  }
 },
 "nbformat": 4,
 "nbformat_minor": 1
}
